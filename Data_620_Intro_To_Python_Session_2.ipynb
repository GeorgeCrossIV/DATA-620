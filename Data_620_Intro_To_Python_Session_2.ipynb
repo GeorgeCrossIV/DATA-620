{
  "cells": [
    {
      "cell_type": "markdown",
      "metadata": {
        "id": "view-in-github",
        "colab_type": "text"
      },
      "source": [
        "<a href=\"https://colab.research.google.com/github/GeorgeCrossIV/DATA-620/blob/main/Data_620_Intro_To_Python_Session_2.ipynb\" target=\"_parent\"><img src=\"https://colab.research.google.com/assets/colab-badge.svg\" alt=\"Open In Colab\"/></a>"
      ]
    },
    {
      "cell_type": "markdown",
      "source": [
        "## if statement"
      ],
      "metadata": {
        "id": "i-Xyk8oEDYPN"
      }
    },
    {
      "cell_type": "code",
      "source": [
        "a=2\n",
        "b=3\n",
        "c=3\n",
        "if a==b:\n",
        "  print(\"A is B\")\n",
        "elif a==c:\n",
        "  print(\"A is C\")\n",
        "elif b==c:\n",
        "  print('B is C')\n",
        "else:\n",
        "  print('Failure')"
      ],
      "metadata": {
        "colab": {
          "base_uri": "https://localhost:8080/"
        },
        "id": "HvAznWMnDbQk",
        "outputId": "f02f41b7-dbb8-40a2-df3d-b61a2c15fecf"
      },
      "execution_count": 18,
      "outputs": [
        {
          "output_type": "stream",
          "name": "stdout",
          "text": [
            "B is C\n"
          ]
        }
      ]
    },
    {
      "cell_type": "markdown",
      "source": [
        "## Loops"
      ],
      "metadata": {
        "id": "9OGc8M0rCl4G"
      }
    },
    {
      "cell_type": "code",
      "source": [
        "# while loop\n",
        "count = 1\n",
        "while count <=5:\n",
        "  print(count)\n",
        "  count +=1\n",
        "\n",
        "print(f'The count is {count}')\n",
        "print()\n",
        "\n",
        "# for loop\n",
        "for i in range(2,6):\n",
        "  print(i, i*i)\n",
        "\n",
        "print()\n",
        "\n",
        "my_list = [1, 2, 3, \"Four\", \"Five\"]\n",
        "for i in my_list:\n",
        "  print(i)"
      ],
      "metadata": {
        "colab": {
          "base_uri": "https://localhost:8080/"
        },
        "id": "6rXMfZxWCoLf",
        "outputId": "e6f283d7-ea47-4472-dad9-72a96241ca1c"
      },
      "execution_count": 20,
      "outputs": [
        {
          "output_type": "stream",
          "name": "stdout",
          "text": [
            "1\n",
            "2\n",
            "3\n",
            "4\n",
            "5\n",
            "The count is 6\n",
            "\n",
            "2 4\n",
            "3 9\n",
            "4 16\n",
            "5 25\n",
            "\n",
            "1\n",
            "2\n",
            "3\n",
            "Four\n",
            "Five\n"
          ]
        }
      ]
    },
    {
      "cell_type": "markdown",
      "source": [
        "## Range sample"
      ],
      "metadata": {
        "id": "CnDwhzzJGAFD"
      }
    },
    {
      "cell_type": "code",
      "source": [
        "# Display population from 2014 to 2018\n",
        "pop = 300000\n",
        "print(\"{0:10} {1}\".format(\"Year\",\"Population\"))\n",
        "for year in range(2014,2019):\n",
        "  print(\"{0:<10d}{1:.2f}\".format(year, round(pop)))\n",
        "  pop += 0.03 * pop  # increase pop by 3 percent\n",
        ""
      ],
      "metadata": {
        "colab": {
          "base_uri": "https://localhost:8080/"
        },
        "id": "zRp8adoEGFHE",
        "outputId": "07cc4b94-304d-4fdf-b52d-de8a0575a7b5"
      },
      "execution_count": 21,
      "outputs": [
        {
          "output_type": "stream",
          "name": "stdout",
          "text": [
            "Year       Population\n",
            "2014      300000.00\n",
            "2015      309000.00\n",
            "2016      318270.00\n",
            "2017      327818.00\n",
            "2018      337653.00\n"
          ]
        }
      ]
    },
    {
      "cell_type": "markdown",
      "source": [
        "## Functions"
      ],
      "metadata": {
        "id": "lWgKzWtNHuWx"
      }
    },
    {
      "cell_type": "code",
      "source": [
        "def questions(name, quest, fav_color):\n",
        "  \"\"\" Parrot user's answers back to them. \"\"\"\n",
        "  print(\"Your name is {}.\".format(name))\n",
        "  print(\"Your question is {}.\".format(quest))\n",
        "  print(\"Your favorite color is {}.\".format(fav_color))\n",
        "\n",
        "questions(\"George\", \"What is your IQ?\", \"Red\")\n",
        "questions(\"Fred\", \"What is your age?\", \"Blue\")"
      ],
      "metadata": {
        "colab": {
          "base_uri": "https://localhost:8080/"
        },
        "id": "eZ3fYbakHv-J",
        "outputId": "8d9dabb4-278c-4003-af44-6653ac948c7d"
      },
      "execution_count": 23,
      "outputs": [
        {
          "output_type": "stream",
          "name": "stdout",
          "text": [
            "Your name is George.\n",
            "Your question is What is your IQ?.\n",
            "Your favorite color is Red.\n",
            "Your name is Fred.\n",
            "Your question is What is your age?.\n",
            "Your favorite color is Blue.\n"
          ]
        }
      ]
    },
    {
      "cell_type": "code",
      "source": [
        "def say_hello(name):\n",
        "  # issue a familiar greeting\n",
        "  print(\"hello %s\" % name)\n",
        "\n",
        "say_hello(\"Dr. Cross\")\n",
        "say_hello(\"John\")\n",
        "say_hello(\"Linda\")\n",
        "say_hello(\"Tom\")"
      ],
      "metadata": {
        "colab": {
          "base_uri": "https://localhost:8080/"
        },
        "id": "ZDFrAT6_JBoO",
        "outputId": "7d31a3d9-c082-4a1d-ac21-000dae70980c"
      },
      "execution_count": 24,
      "outputs": [
        {
          "output_type": "stream",
          "name": "stdout",
          "text": [
            "hello Dr. Cross\n",
            "hello John\n",
            "hello Linda\n",
            "hello Tom\n"
          ]
        }
      ]
    },
    {
      "cell_type": "markdown",
      "source": [
        "## try ... except clause"
      ],
      "metadata": {
        "id": "Q9YJg23DJg-G"
      }
    },
    {
      "cell_type": "code",
      "source": [
        "# code that can cause errors\n",
        "number = int(input(\"Enter an integer: \"))\n",
        "print('You entered a valid integer of ' + str(number) +\".\")\n",
        "print('Thanks')"
      ],
      "metadata": {
        "colab": {
          "base_uri": "https://localhost:8080/"
        },
        "id": "EF7DH-SrJldL",
        "outputId": "28f6408e-acee-4d33-ff50-a8966148cd7d"
      },
      "execution_count": 27,
      "outputs": [
        {
          "output_type": "stream",
          "name": "stdout",
          "text": [
            "Enter an integer: 5\n",
            "You entered a valid integer of 5.\n",
            "Thanks\n"
          ]
        }
      ]
    },
    {
      "cell_type": "markdown",
      "source": [
        "## Dictionaries"
      ],
      "metadata": {
        "id": "G9AkWZYIu_Bp"
      }
    },
    {
      "cell_type": "code",
      "source": [
        "# Dictionaries\n",
        "# A dictionary stores (key, value) pairs\n",
        "print()  # blank\n",
        "\n",
        "d = {'cat': 'cute', 'dog': 'furry'} # Create a new dictionary with some data\n",
        "print (d) # print the dictionary\n",
        "print()\n",
        "\n",
        "print(d['cat'])   # Get an entry from a dictionary; prints \"cute\"\n",
        "print('cat' in d) # Check if a dictionary has a given key; prints \"True\"\n",
        "print('car' in d) # Check if a dictionary has a given key; prints \"False\"\n",
        "\n",
        "d['gold fish'] = 'wet'  # set an entry in a dictionary\n",
        "print(d['gold fish'])   # prints \"wet\"\n",
        "\n",
        "print(d)\n",
        "print()\n",
        "\n",
        "#Loops: It is easy to iterate over the keys in a dictionary\n",
        "d1 = {'person': 2, 'cat': 4, 'spider': 8}\n",
        "for animal in d1:\n",
        "  legs = d1[animal]\n",
        "  print('A %s has %d legs' % (animal, legs))\n",
        "  print('A {0:s} has {1:d} legs'.format(animal, legs))\n",
        "  print(f'A {animal} has {legs} legs')\n",
        "\n",
        "print(f'len() -> {len(d)}')\n",
        "print(f'items() -> {d.items()}')\n",
        "print(f'keys() -> {d.keys()}')\n",
        "print(f'values() -> {d.values()}')"
      ],
      "metadata": {
        "colab": {
          "base_uri": "https://localhost:8080/"
        },
        "id": "wG26iVxgc-db",
        "outputId": "b79999ec-d9ee-47e6-c617-ec494622d683"
      },
      "execution_count": 47,
      "outputs": [
        {
          "output_type": "stream",
          "name": "stdout",
          "text": [
            "\n",
            "{'cat': 'cute', 'dog': 'furry'}\n",
            "\n",
            "cute\n",
            "True\n",
            "False\n",
            "wet\n",
            "{'cat': 'cute', 'dog': 'furry', 'gold fish': 'wet'}\n",
            "\n",
            "A person has 2 legs\n",
            "A person has 2 legs\n",
            "A person has 2 legs\n",
            "A cat has 4 legs\n",
            "A cat has 4 legs\n",
            "A cat has 4 legs\n",
            "A spider has 8 legs\n",
            "A spider has 8 legs\n",
            "A spider has 8 legs\n",
            "len() -> 3\n",
            "items() -> dict_items([('cat', 'cute'), ('dog', 'furry'), ('gold fish', 'wet')])\n",
            "keys() -> dict_keys(['cat', 'dog', 'gold fish'])\n",
            "values() -> dict_values(['cute', 'furry', 'wet'])\n"
          ]
        }
      ]
    },
    {
      "cell_type": "markdown",
      "source": [
        "## Set"
      ],
      "metadata": {
        "id": "GXAdLXCT20YQ"
      }
    },
    {
      "cell_type": "code",
      "source": [
        "# sets\n",
        "s1=set([1, 2, 3, 4, 5, 6])\n",
        "print(s1)\n",
        "\n",
        "s1 = set([1, 2, 3, 4, 5, 6, 6, 5, 4, 3, 2, 1, 100]) # unique value only accepted in a set\n",
        "print(s1)\n",
        "\n",
        "# activity\n",
        "# create two sets with Bob_set and George_set\n",
        "# find intersection and the difference\n",
        "\n",
        "Bob_set = {'Robert','Smith',19}\n",
        "George_set={'George','Cross',19}\n",
        "print(Bob_set.difference(George_set))\n",
        "print(Bob_set.intersection(George_set))"
      ],
      "metadata": {
        "colab": {
          "base_uri": "https://localhost:8080/"
        },
        "id": "YBqYqA9B210n",
        "outputId": "517dfc5c-74ce-4778-e1e5-b0ec8b95399a"
      },
      "execution_count": 8,
      "outputs": [
        {
          "output_type": "stream",
          "name": "stdout",
          "text": [
            "{1, 2, 3, 4, 5, 6}\n",
            "{1, 2, 3, 4, 5, 6, 100}\n",
            "{'Smith', 'Robert'}\n",
            "{19}\n"
          ]
        }
      ]
    },
    {
      "cell_type": "markdown",
      "source": [
        "## Demo reading and writing File using IO"
      ],
      "metadata": {
        "id": "FvkoUFAr5DQB"
      }
    },
    {
      "cell_type": "code",
      "source": [
        "try:\n",
        "  my_file = open(\"names.txt\",\"r\")\n",
        "  read_file = my_file.read()\n",
        "  print(read_file)\n",
        "  my_file.close()\n",
        "except FileNotFoundError:\n",
        "  print(\"File not found!\")\n",
        "except MemoryError:\n",
        "  print(\"out of memory!\")\n",
        "except Exception as err:\n",
        "  print(\"An error has occured\")\n",
        "else:\n",
        "  print(\"File read successfuly\")"
      ],
      "metadata": {
        "colab": {
          "base_uri": "https://localhost:8080/"
        },
        "id": "hz1W8nUDaiWk",
        "outputId": "bbe48a58-88dc-4551-a782-c1b7a7844c10"
      },
      "execution_count": 31,
      "outputs": [
        {
          "output_type": "stream",
          "name": "stdout",
          "text": [
            "File not found!\n"
          ]
        }
      ]
    },
    {
      "cell_type": "code",
      "source": [
        "# Read and Write IO\n",
        "\n",
        "poem = 'I never saw a man who looked\\n'\n",
        "poem += 'With such a wistful eye\\n'\n",
        "poem += 'Upon that little tent of blue\\n'\n",
        "poem += 'Which prisoners call the sky\\n'\n",
        "try:\n",
        "  file = open('poem.txt', 'w')\n",
        "  file.write(poem)\n",
        "  file.close()\n",
        "\n",
        "  # --------- let's try to read it\n",
        "  file = open('poem.txt', 'r')\n",
        "\n",
        "  for line in file:\n",
        "    print(line, end = '')\n",
        "  file.close()\n",
        "\n",
        "  # ----------- let's add some text to the file\n",
        "  file = open('poem.txt', 'a')\n",
        "  file.write('(Oscar Wilde)\\n')\n",
        "  file.write('written by Dr. Cross')\n",
        "  file.close()\n",
        "\n",
        "except Exception as err:\n",
        "  print('Errors when trying to read or write\\n' + str(err))\n",
        "  print()"
      ],
      "metadata": {
        "colab": {
          "base_uri": "https://localhost:8080/"
        },
        "id": "kz24LX6O5G7n",
        "outputId": "5855190b-d3cc-4bfd-c0fd-6049c0871b36"
      },
      "execution_count": 12,
      "outputs": [
        {
          "output_type": "stream",
          "name": "stdout",
          "text": [
            "Errors when trying to read or write\n",
            "[Errno 2] No such file or directory: 'poem4444.txt'\n",
            "\n"
          ]
        }
      ]
    },
    {
      "cell_type": "markdown",
      "source": [
        "## List"
      ],
      "metadata": {
        "id": "VCQfR_m4dWHk"
      }
    },
    {
      "cell_type": "code",
      "source": [
        "years_and_names = [1939, 1943, \"John\", \"George\"]\n",
        "my_list=[20, 10, 30, 10]\n",
        "print(f'original list: {my_list}')\n",
        "my_list.append(5)\n",
        "print(f'appended list {my_list} ')\n",
        "\n",
        "my_list=[20, 10, 30, 10]\n",
        "my_list.insert(0,5)\n",
        "print(f'inserted list {my_list}')\n",
        "\n",
        "my_list=[20, 10, 30, 10]\n",
        "my_list.remove(10)\n",
        "print(f'removed list {my_list}')\n",
        "\n",
        "my_list=[20, 10, 30, 10]\n",
        "print(f'index: {my_list.index(30)}')\n",
        "\n",
        "my_list=[20, 10, 30, 10]\n",
        "print(f'count: {my_list.count(10)}')\n",
        "\n",
        "my_list=[20, 10, 30, 10]\n",
        "my_list.sort()\n",
        "print(f'sorted: {my_list}')"
      ],
      "metadata": {
        "colab": {
          "base_uri": "https://localhost:8080/"
        },
        "id": "ABvlYjeAdYuQ",
        "outputId": "68a29d81-e1a5-47b1-a725-e6dbe825ad54"
      },
      "execution_count": 44,
      "outputs": [
        {
          "output_type": "stream",
          "name": "stdout",
          "text": [
            "original list: [20, 10, 30, 10]\n",
            "appended list [20, 10, 30, 10, 5] \n",
            "inserted list [5, 20, 10, 30, 10]\n",
            "removed list [20, 30, 10]\n",
            "index: 2\n",
            "count: 2\n",
            "sorted: [10, 10, 20, 30]\n"
          ]
        }
      ]
    },
    {
      "cell_type": "markdown",
      "metadata": {
        "id": "9-m1dT1Ar7PE"
      },
      "source": [
        "### Third Program (Third-Program.py)"
      ]
    },
    {
      "cell_type": "code",
      "execution_count": 48,
      "metadata": {
        "id": "KS5auEUTr7PF",
        "outputId": "2f63ebf4-702d-42a6-dd1e-2b76b6cb349f",
        "colab": {
          "base_uri": "https://localhost:8080/"
        }
      },
      "outputs": [
        {
          "output_type": "stream",
          "name": "stdout",
          "text": [
            "[]\n",
            "[3, 1, 2] 2\n",
            "2\n",
            "[3, 1, 'George']\n",
            "[3, 1, 'George', 'bar']\n",
            "bar [3, 1, 'George']\n",
            "\n",
            "[3, 1, 'George']\n",
            "\n",
            "cat\n",
            "dog\n",
            "monkey\n",
            "['cat', 'dog', 'monkey']\n",
            "\n",
            "500.44\n",
            "400.29\n",
            "300.22\n",
            "200\n",
            "R100\n",
            "R99\n",
            "R60\n",
            "\n",
            "{'cat': 'cute', 'dog': 'furry'}\n",
            "\n",
            "cute\n",
            "True\n",
            "False\n",
            "wet\n",
            "{'cat': 'cute', 'dog': 'furry', 'fish': 'wet'}\n",
            "\n",
            "A spider has 8 legs\n",
            "A spider has 8 legs\n"
          ]
        }
      ],
      "source": [
        "#Third Python Program\n",
        "##Created to UMGC DATA 620 by Dr. George Cross\n",
        "##List:\n",
        "##A list is the Python equivalent of an array\n",
        "##\n",
        "empList=[] # empty list\n",
        "print(empList)\n",
        "xs = [3, 1, 2] # Create a list\n",
        "print(xs, xs[2]) # Prints \"[3, 1, 2] 2\"\n",
        "print(xs[-1]) # Negative indices count from the end of the list; prints \"2\"\n",
        "xs[2] = 'George' # Lists can contain elements of different types\n",
        "print(xs)# Prints \"[3, 1, 'George']\"\n",
        "#Some functions to the List:\n",
        "xs.append('bar') # Add a new element to the end of the list\n",
        "print(xs) # Prints \"[3, 1, 'George', 'bar']\"\n",
        "x = xs.pop() # Remove and return the last element of the list\n",
        "print(x, xs) # Prints \"bar [3, 1, 'George']\"\n",
        "print() # blank\n",
        "print(xs)\n",
        "print() # blank\n",
        "#Loops: You can loop over the elements of a list like this:\n",
        "animals = ['cat', 'dog', 'monkey']\n",
        "for animal in animals:\n",
        "    print(animal)\n",
        "#tab is important\n",
        "# Prints \"cat\", \"dog\", \"monkey\", each on its own line\n",
        "print(animals) # print the list again\n",
        "print() # blank\n",
        "#Another List with Float values\n",
        "sales = [500.44,400.29,300.22,200]\n",
        "for ss in sales:\n",
        "    print(ss)\n",
        "#Another List with Variables values\n",
        "R100=\"R100\"\n",
        "R99=\"R99\"\n",
        "R60=\"R60\"\n",
        "RegionCodes = [R100,R99,R60]\n",
        "for rc in RegionCodes:\n",
        "    print(rc)\n",
        "#Dictionaries\n",
        "#A dictionary stores (key, value) pairs\n",
        "print() # blank\n",
        "d = {'cat': 'cute', 'dog': 'furry'} # Create a new dictionary with some data\n",
        "print(d) #print the dictionary\n",
        "print() # blank\n",
        "print(d['cat']) # Get an entry from a dictionary; prints \"cute\"\n",
        "print('cat' in d) # Check if a dictionary has a given key; prints \"True\"\n",
        "print('car' in d) # Check if a dictionary has a given key; prints \"False\n",
        "\n",
        "d['fish'] = 'wet' # Set an entry in a dictionary\n",
        "print(d['fish']) # Prints \"wet\"\n",
        "print(d) #print the dictionary again after appending with fish\n",
        "print() # blank\n",
        "#Loops: It is easy to iterate over the keys in a dictionary\n",
        "d = {'person': 2, 'cat': 4, 'spider': 8}\n",
        "for animal in d:\n",
        "    legs = d[animal]\n",
        "print('A %s has %d legs' % (animal, legs))\n",
        "print('A {0:s} has {1:d} legs'.format(animal, legs))\n",
        "# Prints \"A person has 2 legs\", \"A cat has 4 legs\", \"A spider has 8 legs\""
      ]
    }
  ],
  "metadata": {
    "kernelspec": {
      "display_name": "Python 3",
      "language": "python",
      "name": "python3"
    },
    "language_info": {
      "codemirror_mode": {
        "name": "ipython",
        "version": 3
      },
      "file_extension": ".py",
      "mimetype": "text/x-python",
      "name": "python",
      "nbconvert_exporter": "python",
      "pygments_lexer": "ipython3",
      "version": "3.10.10"
    },
    "colab": {
      "provenance": [],
      "include_colab_link": true
    }
  },
  "nbformat": 4,
  "nbformat_minor": 0
}
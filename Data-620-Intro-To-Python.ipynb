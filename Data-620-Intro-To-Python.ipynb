{
  "cells": [
    {
      "cell_type": "markdown",
      "metadata": {
        "id": "view-in-github",
        "colab_type": "text"
      },
      "source": [
        "<a href=\"https://colab.research.google.com/github/GeorgeCrossIV/DATA-620/blob/main/Data-620-Intro-To-Python.ipynb\" target=\"_parent\"><img src=\"https://colab.research.google.com/assets/colab-badge.svg\" alt=\"Open In Colab\"/></a>"
      ]
    },
    {
      "cell_type": "markdown",
      "metadata": {
        "id": "oc2iC_4dr7PA"
      },
      "source": [
        "### Hello World (hello.py)"
      ]
    },
    {
      "cell_type": "code",
      "execution_count": null,
      "metadata": {
        "id": "bhig0jj3r7PB",
        "outputId": "bdd10755-26bd-4a38-ec64-596dc98fe5b4"
      },
      "outputs": [
        {
          "name": "stdout",
          "output_type": "stream",
          "text": [
            "Hello, World!\n"
          ]
        }
      ],
      "source": [
        "# First Comment\n",
        "print(\"Hello, World!\") # Second Comment"
      ]
    },
    {
      "cell_type": "markdown",
      "metadata": {
        "id": "HyxllYozr7PD"
      },
      "source": [
        "### Data Types"
      ]
    },
    {
      "cell_type": "code",
      "execution_count": null,
      "metadata": {
        "id": "9zeF9KIIr7PD",
        "outputId": "e61aae1a-52e0-4474-d4bf-bb81e056c75f"
      },
      "outputs": [
        {
          "name": "stdout",
          "output_type": "stream",
          "text": [
            "80\n",
            "509.74\n",
            "George\n"
          ]
        }
      ],
      "source": [
        "counter = 80 # An integer assignment\n",
        "miles = 509.74 # A floating point\n",
        "name = \"George\" # A string\n",
        "print(counter)\n",
        "print(miles)\n",
        "print(name)"
      ]
    },
    {
      "cell_type": "markdown",
      "metadata": {
        "id": "etHVA_3Kr7PD"
      },
      "source": [
        "### First Python Program (First-Program.py)"
      ]
    },
    {
      "cell_type": "code",
      "execution_count": 1,
      "metadata": {
        "colab": {
          "base_uri": "https://localhost:8080/"
        },
        "id": "btIOrbh1r7PD",
        "outputId": "fea0691d-cf27-4dda-8204-a893be33b3b8"
      },
      "outputs": [
        {
          "output_type": "stream",
          "name": "stdout",
          "text": [
            "My first program\n",
            "This is the second line of my first program\n",
            "Let us calculate 1+28=  29\n",
            "Total salary  56400\n",
            "Total salar {salary}\n",
            "Total salary $56,400.00\n"
          ]
        }
      ],
      "source": [
        "#First Python Program\n",
        "# George Cross\n",
        "print(\"My first program\")\n",
        "print(\"This is the second line of my first program\")\n",
        "print(\"Let us calculate 1+28= \", int(1+28))\n",
        "salary=55000\n",
        "bonus=1000\n",
        "taxes=400\n",
        "salary=salary + bonus+ taxes\n",
        "print(\"Total salary \",str(salary))\n",
        "print(\"Total salary {salary}\")\n",
        "#make it currency:\n",
        "print(f\"Total salary ${salary:,.2f}\")"
      ]
    },
    {
      "cell_type": "code",
      "source": [
        "# type function and simple operations\n",
        "x = 3\n",
        "print(type(x))\n",
        "print(\"x= \",str(x))\n",
        "print(x + 1)"
      ],
      "metadata": {
        "colab": {
          "base_uri": "https://localhost:8080/"
        },
        "id": "C1hZNtEIZG0a",
        "outputId": "48649c02-749c-4b79-fbae-18c09ff373fa"
      },
      "execution_count": 2,
      "outputs": [
        {
          "output_type": "stream",
          "name": "stdout",
          "text": [
            "<class 'int'>\n",
            "x=  3\n",
            "4\n"
          ]
        }
      ]
    },
    {
      "cell_type": "code",
      "source": [
        "# string functions\n",
        "hello = 'hello'\n",
        "world = \"world\"\n",
        "print(hello)\n",
        "print(len(hello))\n",
        "\n",
        "print(' ')\n",
        "\n",
        "s = \"hello\"\n",
        "print(type(s))\n",
        "print(s.capitalize())\n",
        "print(s.upper())\n",
        "print(s.rjust(7))\n",
        "print(s.center(7))\n",
        "\n",
        "print(' ')\n",
        "\n",
        "print(s.replace('l','(ell)'))\n",
        "\n",
        "print('  world '.strip())\n",
        "print(hello,world)"
      ],
      "metadata": {
        "id": "xaPqq4_wZvXH",
        "outputId": "29fed17c-6aff-4afb-daa3-b1ce5d63a653",
        "colab": {
          "base_uri": "https://localhost:8080/"
        }
      },
      "execution_count": 3,
      "outputs": [
        {
          "output_type": "stream",
          "name": "stdout",
          "text": [
            "hello\n",
            "5\n",
            " \n",
            "<class 'str'>\n",
            "Hello\n",
            "HELLO\n",
            "  hello\n",
            " hello \n",
            " \n",
            "he(ell)(ell)o\n",
            "world\n",
            "hello world\n"
          ]
        }
      ]
    },
    {
      "cell_type": "code",
      "source": [
        "# date and time\n",
        "#import datetime\n",
        "#from library import class\n",
        "from datetime import date, datetime\n",
        "now=datetime.now()\n",
        "print(now)\n",
        "#format datetime\n",
        "# https://strftime.org/\n",
        "currentDate=datetime(now.year, now.month, now.day)\n",
        "print(currentDate)\n",
        "print(currentDate.strftime(\"%m/%d/%Y\"))\n",
        "print(currentDate.strftime(\"%d/%m/%Y\"))\n",
        "print(currentDate.strftime(\"%m-%d-%Y\"))\n",
        "print(currentDate.strftime(\"%B/%m/%Y\"))\n",
        "print(currentDate.strftime(\"%b/%d/%Y\"))"
      ],
      "metadata": {
        "id": "gETI3VW2aVWV",
        "outputId": "11799192-a9a2-41ba-8152-ece8f50dbfe9",
        "colab": {
          "base_uri": "https://localhost:8080/"
        }
      },
      "execution_count": 4,
      "outputs": [
        {
          "output_type": "stream",
          "name": "stdout",
          "text": [
            "2024-06-29 14:36:16.387536\n",
            "2024-06-29 00:00:00\n",
            "06/29/2024\n",
            "29/06/2024\n",
            "06-29-2024\n",
            "June/06/2024\n",
            "Jun/29/2024\n"
          ]
        }
      ]
    },
    {
      "cell_type": "markdown",
      "metadata": {
        "id": "jGY1Y_zkr7PD"
      },
      "source": [
        "### Second Program (Second-Program.py)"
      ]
    },
    {
      "cell_type": "code",
      "execution_count": null,
      "metadata": {
        "id": "hqSB62kdr7PD",
        "outputId": "7161837a-7af6-4d9b-eaa1-2fd38f27b0af"
      },
      "outputs": [
        {
          "name": "stdout",
          "output_type": "stream",
          "text": [
            "My second program to calculate the gross pay\n",
            "Ask the user to enter values:\n",
            "\n",
            "Gross Pay is (No Overtime): $400.0\n",
            "\n",
            "See data types:\n",
            "<class 'str'>\n",
            "<class 'int'>\n",
            "<class 'str'>\n",
            "<class 'float'>\n",
            "<class 'float'>\n"
          ]
        }
      ],
      "source": [
        "12\n",
        "#Second Python Program\n",
        "##Created to UMGC DATA 620 by Dr. George Cross\n",
        "# George Cross\n",
        "#This program computes gross pay\n",
        "##\n",
        "print(\"My second program to calculate the gross pay\")\n",
        "print (\"Ask the user to enter values:\")\n",
        "print() #blank\n",
        "hours=input(\"Enter number of hours: \")\n",
        "#convert input from default string value to integer\n",
        "intHours=int(hours)\n",
        "rate=input(\"Enter rate of Pay: \")\n",
        "#convert input from default string value to float\n",
        "floatRate=float(rate)\n",
        "#round the computation to two decimal places\n",
        "grossPay=round((intHours * floatRate),2)\n",
        "#Print the result for Gross Pay\n",
        "print(\"Gross Pay is (No Overtime): $\" + str(grossPay))\n",
        "print() # blank\n",
        "print(\"See data types:\")\n",
        "print(type(hours))\n",
        "print(type(intHours))\n",
        "print(type(rate))\n",
        "print(type(floatRate))\n",
        "print(type(grossPay))"
      ]
    },
    {
      "cell_type": "markdown",
      "metadata": {
        "id": "TdOACbCmr7PE"
      },
      "source": [
        "### Second Program v2 (Second-Program-v2.py)"
      ]
    },
    {
      "cell_type": "code",
      "execution_count": null,
      "metadata": {
        "id": "ljiTIv8Rr7PE",
        "outputId": "f9cc14a4-5cb1-42ee-c344-ca85092eacbe"
      },
      "outputs": [
        {
          "name": "stdout",
          "output_type": "stream",
          "text": [
            "My second program to calculate the gross pay with LOOP and Try\n",
            "\n",
            "My program to calculate the gross pay with Try\n",
            "\n",
            "Gross Pay is (No Overtime): $400.00\n",
            "\n",
            "My program to calculate the gross pay with Try\n",
            "\n",
            "Gross Pay is (No Overtime): $100.00\n",
            "\n"
          ]
        }
      ],
      "source": [
        "#Second Python Program\n",
        "##Created to UMGC DATA 620 by Dr. George Cross\n",
        "# George Cross\n",
        "#This program computes gross pay with while\n",
        "##\n",
        "import sys\n",
        "print(\"My second program to calculate the gross pay with LOOP and Try\")\n",
        "print() #blank\n",
        "## Re-write with try and except\n",
        "while True:\n",
        "    hours=input(\"Enter number of hours: or done \")\n",
        "    if hours == 'done':\n",
        "        break\n",
        "    else:\n",
        "        try:\n",
        "            print(\"My program to calculate the gross pay with Try\")\n",
        "            print() #blank\n",
        "            #convert input from default string value to integer\n",
        "            intHours=int(hours)\n",
        "            rate=input(\"Enter rate of Pay: \")\n",
        "            #convert input from default string value to float\n",
        "            floatRate=float(rate)\n",
        "            #round the computation to two decimal places\n",
        "            grossPay=round((intHours * floatRate),2)\n",
        "            #Print the result for Gross Pay\n",
        "            #print(f\"Gross Pay is (No Overtime): ${grossPay:,.2f}\")\n",
        "            print(\"Gross Pay is (No Overtime): ${0:,.2f}\".format(grossPay))\n",
        "            print() # blank\n",
        "        except ValueError as err:\n",
        "            print('Input must be numeric\\n' + str(err))\n",
        "            print() # blank"
      ]
    },
    {
      "cell_type": "markdown",
      "metadata": {
        "id": "9-m1dT1Ar7PE"
      },
      "source": [
        "### Third Program (Third-Program.py)"
      ]
    },
    {
      "cell_type": "code",
      "execution_count": null,
      "metadata": {
        "id": "KS5auEUTr7PF",
        "outputId": "d6780e2d-2f34-4fda-c40b-bdcf093ea833"
      },
      "outputs": [
        {
          "name": "stdout",
          "output_type": "stream",
          "text": [
            "[]\n",
            "[3, 1, 2] 2\n",
            "2\n",
            "[3, 1, 'George']\n",
            "[3, 1, 'George', 'bar']\n",
            "bar [3, 1, 'George']\n",
            "\n",
            "[3, 1, 'George']\n",
            "\n",
            "cat\n",
            "dog\n",
            "monkey\n",
            "['cat', 'dog', 'monkey']\n",
            "\n",
            "500.44\n",
            "400.29\n",
            "300.22\n",
            "200\n",
            "R100\n",
            "R99\n",
            "R60\n",
            "\n",
            "{'cat': 'cute', 'dog': 'furry'}\n",
            "\n",
            "cute\n",
            "True\n",
            "False\n",
            "wet\n",
            "{'cat': 'cute', 'dog': 'furry', 'fish': 'wet'}\n",
            "\n",
            "A spider has 8 legs\n",
            "A spider has 8 legs\n"
          ]
        }
      ],
      "source": [
        "#Third Python Program\n",
        "##Created to UMGC DATA 620 by Dr. George Cross\n",
        "##List:\n",
        "##A list is the Python equivalent of an array\n",
        "##\n",
        "empList=[] # empty list\n",
        "print(empList)\n",
        "xs = [3, 1, 2] # Create a list\n",
        "print(xs, xs[2]) # Prints \"[3, 1, 2] 2\"\n",
        "print(xs[-1]) # Negative indices count from the end of the list; prints \"2\"\n",
        "xs[2] = 'George' # Lists can contain elements of different types\n",
        "print(xs)# Prints \"[3, 1, 'George']\"\n",
        "#Some functions to the List:\n",
        "xs.append('bar') # Add a new element to the end of the list\n",
        "print(xs) # Prints \"[3, 1, 'George', 'bar']\"\n",
        "x = xs.pop() # Remove and return the last element of the list\n",
        "print(x, xs) # Prints \"bar [3, 1, 'George']\"\n",
        "print() # blank\n",
        "print(xs)\n",
        "print() # blank\n",
        "#Loops: You can loop over the elements of a list like this:\n",
        "animals = ['cat', 'dog', 'monkey']\n",
        "for animal in animals:\n",
        "    print(animal)\n",
        "#tab is important\n",
        "# Prints \"cat\", \"dog\", \"monkey\", each on its own line\n",
        "print(animals) # print the list again\n",
        "print() # blank\n",
        "#Another List with Float values\n",
        "sales = [500.44,400.29,300.22,200]\n",
        "for ss in sales:\n",
        "    print(ss)\n",
        "#Another List with Variables values\n",
        "R100=\"R100\"\n",
        "R99=\"R99\"\n",
        "R60=\"R60\"\n",
        "RegionCodes = [R100,R99,R60]\n",
        "for rc in RegionCodes:\n",
        "    print(rc)\n",
        "#Dictionaries\n",
        "#A dictionary stores (key, value) pairs\n",
        "print() # blank\n",
        "d = {'cat': 'cute', 'dog': 'furry'} # Create a new dictionary with some data\n",
        "print(d) #print the dictionary\n",
        "print() # blank\n",
        "print(d['cat']) # Get an entry from a dictionary; prints \"cute\"\n",
        "print('cat' in d) # Check if a dictionary has a given key; prints \"True\"\n",
        "print('car' in d) # Check if a dictionary has a given key; prints \"False\n",
        "\n",
        "d['fish'] = 'wet' # Set an entry in a dictionary\n",
        "print(d['fish']) # Prints \"wet\"\n",
        "print(d) #print the dictionary again after appending with fish\n",
        "print() # blank\n",
        "#Loops: It is easy to iterate over the keys in a dictionary\n",
        "d = {'person': 2, 'cat': 4, 'spider': 8}\n",
        "for animal in d:\n",
        "    legs = d[animal]\n",
        "print('A %s has %d legs' % (animal, legs))\n",
        "print('A {0:s} has {1:d} legs'.format(animal, legs))\n",
        "# Prints \"A person has 2 legs\", \"A cat has 4 legs\", \"A spider has 8 legs\""
      ]
    }
  ],
  "metadata": {
    "kernelspec": {
      "display_name": "Python 3",
      "language": "python",
      "name": "python3"
    },
    "language_info": {
      "codemirror_mode": {
        "name": "ipython",
        "version": 3
      },
      "file_extension": ".py",
      "mimetype": "text/x-python",
      "name": "python",
      "nbconvert_exporter": "python",
      "pygments_lexer": "ipython3",
      "version": "3.10.10"
    },
    "colab": {
      "provenance": [],
      "include_colab_link": true
    }
  },
  "nbformat": 4,
  "nbformat_minor": 0
}